{
 "cells": [
  {
   "cell_type": "code",
   "execution_count": 20,
   "metadata": {},
   "outputs": [
    {
     "name": "stdout",
     "output_type": "stream",
     "text": [
      "[]\n",
      "[]\n"
     ]
    }
   ],
   "source": [
    "import csv\n",
    "import json\n",
    "import pandas as pd\n",
    "from pathlib import Path\n",
    "\n",
    "fruitsyn = ['pear', 'persimmon', 'mango', 'quince', 'watermelon', 'pineapple', 'cantaloupe', 'orange', 'lychee', 'papaya', 'plum', 'blueberry', 'kiwi', 'cherry', 'fig', 'strawberry', 'blackberry', 'nectarine', 'lemon', 'clementine', 'pomegranate', 'apple', 'apricot', 'grape', 'raspberry', 'avocado', 'peach', 'coconut', 'tangerine', 'grapefruit', 'guava', 'kumquat', 'mangosteen', 'lime', 'pomelo', 'passion fruit', 'melon', 'star fruit', 'durian', 'jackfruit', 'banana', 'tamarind']\n",
    "harshsyn = ['herbal', 'spicy', 'pepper', 'mint', 'rosemary', 'thyme', 'basil', 'sage', 'lavender', 'oregano', 'marjoram', 'chamomile', 'tarragon', 'parsley', 'cilantro', 'dill', 'lemon balm', 'sorrel', 'chervil', 'fennel', 'tansy', 'anise', 'coriander', 'caraway', 'cumin', 'saffron', 'bay leaf', 'cinnamon', 'nutmeg', 'ginger', 'turmeric', 'cardamom', 'clove', 'star anise', 'allspice', 'mustard', 'cayenne', 'cinnamon', \"olive\"]\n",
    "drysyn = ['dry', 'tannic', 'tannin', 'tannins', \"dryness\", \"tannicness\", \"tanniness\", \"tanninness\", \"drying\", \"dryish\", \"dryer\", \"dryest\", \"tannic\"]\n",
    "sweetsyn = ['sweet', 'sweetness', 'semisweet', 'sugar', 'sugary', 'sugared', 'saccharine', 'saccharin', 'saccharinity', 'sacchariferous', 'saccharification', 'saccharify', 'saccharoid', 'saccharoidal', 'saccharomycetes', 'saccharomycetaceae']\n",
    "\n",
    "# Read in the CSV data\n",
    "with open(Path('../datasets/unsorted.csv'), 'r') as csvfile:\n",
    "    reader = csv.reader(csvfile)\n",
    "    data = []\n",
    "    for row in reader:\n",
    "        if len(row) != 0:\n",
    "            found_fruits = []\n",
    "            found_herbs = []\n",
    "            found_dry = []\n",
    "            found_sweet = []\n",
    "            for col in row:\n",
    "                for fruit in fruitsyn:\n",
    "                    if fruit in col:\n",
    "                        if fruit not in found_fruits:\n",
    "                            found_fruits.append(fruit)\n",
    "                for herb in harshsyn:\n",
    "                    if herb in col:\n",
    "                        if herb not in found_herbs:\n",
    "                            found_herbs.append(herb)\n",
    "                for dry in drysyn:\n",
    "                    if dry in col:\n",
    "                        if dry not in found_dry:\n",
    "                            found_dry.append(dry)\n",
    "                for sweet in sweetsyn:\n",
    "                    if sweet in col:\n",
    "                        if sweet not in found_sweet:\n",
    "                            found_sweet.append(sweet)\n",
    "                \n",
    "            data.append(row)\n",
    "\n",
    "            if len(found_fruits) > 0 and len(found_herbs) > 0:\n",
    "                row.append(\"fruity and herbal\")\n",
    "                row.extend(found_fruits)\n",
    "                row.extend(found_herbs)\n",
    "            elif len(found_fruits) > 0:\n",
    "                row.append(\"fruity\")\n",
    "                row.extend(found_fruits)\n",
    "            elif len(found_herbs) > 0:\n",
    "                row.append(\"herbal\")\n",
    "                row.extend(found_herbs)\n",
    "            \n",
    "            if len(found_dry) > 0 and len(found_sweet) >0:\n",
    "                row.append(\"dry and sweet\")\n",
    "                row.extend(found_dry)\n",
    "                row.extend(found_sweet)\n",
    "            elif len(found_dry) > 0:\n",
    "                row.append(\"dry\")\n",
    "                row.extend(found_dry)\n",
    "            elif len(found_sweet) > 0:\n",
    "                row.append(\"sweet\")\n",
    "                row.extend(found_sweet)\n",
    "\n",
    "            data.append(row)\n",
    "    csvfile.close()\n",
    "\n",
    "\n",
    "    \n",
    "    with open(Path('../datasets/sortedwines.json'), 'w') as jsonfile:\n",
    "        json.dump(data, jsonfile)\n",
    "\n",
    "    print(data)\n"
   ]
  }
 ],
 "metadata": {
  "kernelspec": {
   "display_name": "Python 3.11.3 64-bit",
   "language": "python",
   "name": "python3"
  },
  "language_info": {
   "codemirror_mode": {
    "name": "ipython",
    "version": 3
   },
   "file_extension": ".py",
   "mimetype": "text/x-python",
   "name": "python",
   "nbconvert_exporter": "python",
   "pygments_lexer": "ipython3",
   "version": "3.11.3"
  },
  "orig_nbformat": 4,
  "vscode": {
   "interpreter": {
    "hash": "aee8b7b246df8f9039afb4144a1f6fd8d2ca17a180786b69acc140d282b71a49"
   }
  }
 },
 "nbformat": 4,
 "nbformat_minor": 2
}
